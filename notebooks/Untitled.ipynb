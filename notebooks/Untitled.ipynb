{
 "cells": [
  {
   "cell_type": "code",
   "execution_count": 1,
   "id": "240cb663",
   "metadata": {},
   "outputs": [],
   "source": [
    "#point to lunar library locally\n",
    "import sys\n",
    "sys.path.append('/Users/oakley/Documents/GitHub/lunar')\n",
    "\n",
    "\n",
    "# Import the required functions from your lunar library\n",
    "from lunar.find_contours import find_contours_from_videos\n",
    "from lunar.plot_contours import plot_contours\n",
    "from lunar.identify_glare import process_large_file\n",
    "from lunar.label_tanx import analyze_contours\n",
    "from lunar import match_cameras\n",
    "from lunar import plot_matched\n",
    "from lunar.smooth_contours import smooth_contours, smooth_contours_sem\n",
    "from lunar.plot_glare_contours import plot_glare_contours\n",
    "from lunar.identify_glare import clip_ends"
   ]
  },
  {
   "cell_type": "code",
   "execution_count": null,
   "id": "68f703ae",
   "metadata": {},
   "outputs": [],
   "source": []
  }
 ],
 "metadata": {
  "kernelspec": {
   "display_name": "Python [conda env:walle]",
   "language": "python",
   "name": "conda-env-walle-py"
  },
  "language_info": {
   "codemirror_mode": {
    "name": "ipython",
    "version": 3
   },
   "file_extension": ".py",
   "mimetype": "text/x-python",
   "name": "python",
   "nbconvert_exporter": "python",
   "pygments_lexer": "ipython3",
   "version": "3.8.15"
  }
 },
 "nbformat": 4,
 "nbformat_minor": 5
}
